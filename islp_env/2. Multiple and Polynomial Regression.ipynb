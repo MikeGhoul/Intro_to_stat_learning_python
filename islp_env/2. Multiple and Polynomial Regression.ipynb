{
 "cells": [
  {
   "cell_type": "markdown",
   "id": "aa75e05e-8631-406a-8c45-0c7eaef258d4",
   "metadata": {},
   "source": [
    "## Multiple Regression"
   ]
  },
  {
   "cell_type": "code",
   "execution_count": 1,
   "id": "a4463063-1d77-4374-b10f-d4788251bd51",
   "metadata": {},
   "outputs": [],
   "source": [
    "import numpy as np\n",
    "import pandas as pd\n",
    "import matplotlib.pyplot as plt\n",
    "from sklearn import preprocessing\n",
    "from prettytable import PrettyTable\n",
    "from sklearn.metrics import mean_squared_error\n",
    "from sklearn.linear_model import LinearRegression\n",
    "from sklearn.model_selection import train_test_split\n",
    "%matplotlib inline"
   ]
  },
  {
   "cell_type": "code",
   "execution_count": 2,
   "id": "6226e5bc-295d-49b0-9fa9-5a28634c7f74",
   "metadata": {},
   "outputs": [
    {
     "data": {
      "text/html": [
       "<div>\n",
       "<style scoped>\n",
       "    .dataframe tbody tr th:only-of-type {\n",
       "        vertical-align: middle;\n",
       "    }\n",
       "\n",
       "    .dataframe tbody tr th {\n",
       "        vertical-align: top;\n",
       "    }\n",
       "\n",
       "    .dataframe thead th {\n",
       "        text-align: right;\n",
       "    }\n",
       "</style>\n",
       "<table border=\"1\" class=\"dataframe\">\n",
       "  <thead>\n",
       "    <tr style=\"text-align: right;\">\n",
       "      <th></th>\n",
       "      <th>TV</th>\n",
       "      <th>Radio</th>\n",
       "      <th>Newspaper</th>\n",
       "      <th>Sales</th>\n",
       "    </tr>\n",
       "  </thead>\n",
       "  <tbody>\n",
       "    <tr>\n",
       "      <th>0</th>\n",
       "      <td>230.1</td>\n",
       "      <td>37.8</td>\n",
       "      <td>69.2</td>\n",
       "      <td>22.1</td>\n",
       "    </tr>\n",
       "    <tr>\n",
       "      <th>1</th>\n",
       "      <td>44.5</td>\n",
       "      <td>39.3</td>\n",
       "      <td>45.1</td>\n",
       "      <td>10.4</td>\n",
       "    </tr>\n",
       "    <tr>\n",
       "      <th>2</th>\n",
       "      <td>17.2</td>\n",
       "      <td>45.9</td>\n",
       "      <td>69.3</td>\n",
       "      <td>12.0</td>\n",
       "    </tr>\n",
       "    <tr>\n",
       "      <th>3</th>\n",
       "      <td>151.5</td>\n",
       "      <td>41.3</td>\n",
       "      <td>58.5</td>\n",
       "      <td>16.5</td>\n",
       "    </tr>\n",
       "    <tr>\n",
       "      <th>4</th>\n",
       "      <td>180.8</td>\n",
       "      <td>10.8</td>\n",
       "      <td>58.4</td>\n",
       "      <td>17.9</td>\n",
       "    </tr>\n",
       "  </tbody>\n",
       "</table>\n",
       "</div>"
      ],
      "text/plain": [
       "      TV  Radio  Newspaper  Sales\n",
       "0  230.1   37.8       69.2   22.1\n",
       "1   44.5   39.3       45.1   10.4\n",
       "2   17.2   45.9       69.3   12.0\n",
       "3  151.5   41.3       58.5   16.5\n",
       "4  180.8   10.8       58.4   17.9"
      ]
     },
     "execution_count": 2,
     "metadata": {},
     "output_type": "execute_result"
    }
   ],
   "source": [
    "# Lets look at the advertising data set\n",
    "ad_df = pd.read_csv('datasets/advertising.csv')\n",
    "ad_df.head()"
   ]
  },
  {
   "cell_type": "markdown",
   "id": "9dc4fddb-66a1-4a33-8132-f556d8226f3a",
   "metadata": {},
   "source": [
    "---------------------"
   ]
  },
  {
   "cell_type": "markdown",
   "id": "a61798a6-8993-4c25-a9f0-6c20e97c6178",
   "metadata": {},
   "source": [
    "### Create different multi predictor models"
   ]
  },
  {
   "cell_type": "code",
   "execution_count": 3,
   "id": "ae022f2b-6dd3-497c-a9ec-a0fd45d5f042",
   "metadata": {},
   "outputs": [],
   "source": [
    "# Initialize a list to store the MSE values\n",
    "mse_list = []\n",
    "\n",
    "# Create a list of lists of all unique predictor combinations\n",
    "# For example, if you have 2 predictors, A and B, you would end up with:\n",
    "# [['A'], ['B'], ['A', 'B']]\n",
    "cols = [['TV'], ['Radio'], ['Newspaper'], ['TV', 'Radio'], ['TV', 'Newspaper'], \n",
    "        ['Radio', 'Newspaper'], ['TV', 'Radio', 'Newspaper']]\n",
    "\n",
    "# Loop over all predictor combinations:\n",
    "for i in cols:\n",
    "\n",
    "    # Set each of the predictors from the previous list as x:\n",
    "    x = ad_df[i]\n",
    "\n",
    "    # Set the \"sales\" column as the response variable:\n",
    "    y = ad_df['Sales']\n",
    "\n",
    "    # Split the data into train-test sets with 80% training data and 20% testing data.\n",
    "    # Set random_state as 0\n",
    "    x_train, x_test, y_train, y_test = train_test_split(x, y, train_size = 0.8, random_state = 0)\n",
    "\n",
    "    # Initialize a Linear Regression model\n",
    "    lreg = LinearRegression()\n",
    "\n",
    "    # Fit the linear model on the train data:\n",
    "    lreg.fit(x_train, y_train)\n",
    "\n",
    "    # Predict the response variable for the test set using the trained model\n",
    "    y_pred = lreg.predict(x_test)\n",
    "\n",
    "    # Compute the MSE for the test data:\n",
    "    MSE = mean_squared_error(y_test, y_pred)\n",
    "\n",
    "    # Append the computed MSE to the initialized list:\n",
    "    mse_list.append(MSE)"
   ]
  },
  {
   "cell_type": "code",
   "execution_count": 4,
   "id": "7b66c957-9e68-4c57-a5e0-74e33d4e11fc",
   "metadata": {},
   "outputs": [
    {
     "data": {
      "text/plain": [
       "[6.639091226559303,\n",
       " 30.800740055187482,\n",
       " 34.972705918316024,\n",
       " 4.476818366208145,\n",
       " 5.93963320856206,\n",
       " 31.445129067266254,\n",
       " 4.522552562041294]"
      ]
     },
     "execution_count": 4,
     "metadata": {},
     "output_type": "execute_result"
    }
   ],
   "source": [
    "# Take a quick look at the mse_list to ensure it's populated:\n",
    "mse_list"
   ]
  },
  {
   "cell_type": "markdown",
   "id": "f1b4844d-a2f1-4602-832c-797293c5ced2",
   "metadata": {},
   "source": [
    "### Display the MSE with predictor combinations"
   ]
  },
  {
   "cell_type": "code",
   "execution_count": 5,
   "id": "66a2fbdf-b1ce-42f3-ae50-a64fa29c2213",
   "metadata": {},
   "outputs": [
    {
     "name": "stdout",
     "output_type": "stream",
     "text": [
      "+------------------------------+--------+\n",
      "|          Predictors          |  MSE   |\n",
      "+------------------------------+--------+\n",
      "|            ['TV']            | 6.639  |\n",
      "|          ['Radio']           | 30.801 |\n",
      "|        ['Newspaper']         | 34.973 |\n",
      "|       ['TV', 'Radio']        | 4.477  |\n",
      "|     ['TV', 'Newspaper']      |  5.94  |\n",
      "|    ['Radio', 'Newspaper']    | 31.445 |\n",
      "| ['TV', 'Radio', 'Newspaper'] | 4.523  |\n",
      "+------------------------------+--------+\n"
     ]
    }
   ],
   "source": [
    "# Helper code to display the MSE for each predictor combination:\n",
    "t = PrettyTable(['Predictors', 'MSE'])\n",
    "\n",
    "for i in range(len(mse_list)):\n",
    "    t.add_row([cols[i], round(mse_list[i], 3)])\n",
    "\n",
    "print(t)"
   ]
  },
  {
   "cell_type": "code",
   "execution_count": 6,
   "id": "be89d733-369c-4ae8-afb4-59a13564fce7",
   "metadata": {},
   "outputs": [
    {
     "data": {
      "text/html": [
       "<div>\n",
       "<style scoped>\n",
       "    .dataframe tbody tr th:only-of-type {\n",
       "        vertical-align: middle;\n",
       "    }\n",
       "\n",
       "    .dataframe tbody tr th {\n",
       "        vertical-align: top;\n",
       "    }\n",
       "\n",
       "    .dataframe thead th {\n",
       "        text-align: right;\n",
       "    }\n",
       "</style>\n",
       "<table border=\"1\" class=\"dataframe\">\n",
       "  <thead>\n",
       "    <tr style=\"text-align: right;\">\n",
       "      <th></th>\n",
       "      <th>TV</th>\n",
       "      <th>Radio</th>\n",
       "      <th>Newspaper</th>\n",
       "      <th>Sales</th>\n",
       "    </tr>\n",
       "  </thead>\n",
       "  <tbody>\n",
       "    <tr>\n",
       "      <th>0</th>\n",
       "      <td>230.1</td>\n",
       "      <td>37.8</td>\n",
       "      <td>69.2</td>\n",
       "      <td>22.1</td>\n",
       "    </tr>\n",
       "    <tr>\n",
       "      <th>1</th>\n",
       "      <td>44.5</td>\n",
       "      <td>39.3</td>\n",
       "      <td>45.1</td>\n",
       "      <td>10.4</td>\n",
       "    </tr>\n",
       "    <tr>\n",
       "      <th>2</th>\n",
       "      <td>17.2</td>\n",
       "      <td>45.9</td>\n",
       "      <td>69.3</td>\n",
       "      <td>12.0</td>\n",
       "    </tr>\n",
       "    <tr>\n",
       "      <th>3</th>\n",
       "      <td>151.5</td>\n",
       "      <td>41.3</td>\n",
       "      <td>58.5</td>\n",
       "      <td>16.5</td>\n",
       "    </tr>\n",
       "    <tr>\n",
       "      <th>4</th>\n",
       "      <td>180.8</td>\n",
       "      <td>10.8</td>\n",
       "      <td>58.4</td>\n",
       "      <td>17.9</td>\n",
       "    </tr>\n",
       "    <tr>\n",
       "      <th>...</th>\n",
       "      <td>...</td>\n",
       "      <td>...</td>\n",
       "      <td>...</td>\n",
       "      <td>...</td>\n",
       "    </tr>\n",
       "    <tr>\n",
       "      <th>195</th>\n",
       "      <td>38.2</td>\n",
       "      <td>3.7</td>\n",
       "      <td>13.8</td>\n",
       "      <td>7.6</td>\n",
       "    </tr>\n",
       "    <tr>\n",
       "      <th>196</th>\n",
       "      <td>94.2</td>\n",
       "      <td>4.9</td>\n",
       "      <td>8.1</td>\n",
       "      <td>14.0</td>\n",
       "    </tr>\n",
       "    <tr>\n",
       "      <th>197</th>\n",
       "      <td>177.0</td>\n",
       "      <td>9.3</td>\n",
       "      <td>6.4</td>\n",
       "      <td>14.8</td>\n",
       "    </tr>\n",
       "    <tr>\n",
       "      <th>198</th>\n",
       "      <td>283.6</td>\n",
       "      <td>42.0</td>\n",
       "      <td>66.2</td>\n",
       "      <td>25.5</td>\n",
       "    </tr>\n",
       "    <tr>\n",
       "      <th>199</th>\n",
       "      <td>232.1</td>\n",
       "      <td>8.6</td>\n",
       "      <td>8.7</td>\n",
       "      <td>18.4</td>\n",
       "    </tr>\n",
       "  </tbody>\n",
       "</table>\n",
       "<p>200 rows × 4 columns</p>\n",
       "</div>"
      ],
      "text/plain": [
       "        TV  Radio  Newspaper  Sales\n",
       "0    230.1   37.8       69.2   22.1\n",
       "1     44.5   39.3       45.1   10.4\n",
       "2     17.2   45.9       69.3   12.0\n",
       "3    151.5   41.3       58.5   16.5\n",
       "4    180.8   10.8       58.4   17.9\n",
       "..     ...    ...        ...    ...\n",
       "195   38.2    3.7       13.8    7.6\n",
       "196   94.2    4.9        8.1   14.0\n",
       "197  177.0    9.3        6.4   14.8\n",
       "198  283.6   42.0       66.2   25.5\n",
       "199  232.1    8.6        8.7   18.4\n",
       "\n",
       "[200 rows x 4 columns]"
      ]
     },
     "execution_count": 6,
     "metadata": {},
     "output_type": "execute_result"
    }
   ],
   "source": [
    "ad_df"
   ]
  },
  {
   "cell_type": "code",
   "execution_count": 12,
   "id": "470301b2-9f09-47b4-963b-a359fdcb597c",
   "metadata": {},
   "outputs": [
    {
     "name": "stdout",
     "output_type": "stream",
     "text": [
      "29408.5\n",
      "4652.800000000001\n",
      "6110.799999999999\n",
      "3026.1000000000004\n"
     ]
    }
   ],
   "source": [
    "# check why output doesn't match edx \n",
    "# Sales sum is different in this data set so that is likely causing the disconnect\n",
    "for i in ad_df.columns:\n",
    "    print(ad_df[i].sum())"
   ]
  },
  {
   "cell_type": "markdown",
   "id": "2d97db30-6c31-4fae-a2b6-d921866fec72",
   "metadata": {},
   "source": [
    "--------------------------------------"
   ]
  },
  {
   "cell_type": "markdown",
   "id": "05b5e77b-6cda-49aa-90b4-a3fd7ca285cd",
   "metadata": {},
   "source": [
    "## Techniques for Multilinear Modeling"
   ]
  },
  {
   "cell_type": "code",
   "execution_count": 13,
   "id": "a938a1ad-0092-48a8-a535-03e9cf977606",
   "metadata": {},
   "outputs": [],
   "source": [
    "import numpy as np\n",
    "import pandas as pd\n",
    "import seaborn as sns\n",
    "import matplotlib.pyplot as plt\n",
    "from sklearn.metrics import mean_squared_error\n",
    "from sklearn.linear_model import LinearRegression\n",
    "from sklearn.model_selection import train_test_split"
   ]
  },
  {
   "cell_type": "code",
   "execution_count": 14,
   "id": "55e002b6-b0e2-4f6d-b6a1-0416f6c1fb3f",
   "metadata": {},
   "outputs": [
    {
     "data": {
      "text/html": [
       "<div>\n",
       "<style scoped>\n",
       "    .dataframe tbody tr th:only-of-type {\n",
       "        vertical-align: middle;\n",
       "    }\n",
       "\n",
       "    .dataframe tbody tr th {\n",
       "        vertical-align: top;\n",
       "    }\n",
       "\n",
       "    .dataframe thead th {\n",
       "        text-align: right;\n",
       "    }\n",
       "</style>\n",
       "<table border=\"1\" class=\"dataframe\">\n",
       "  <thead>\n",
       "    <tr style=\"text-align: right;\">\n",
       "      <th></th>\n",
       "      <th>Income</th>\n",
       "      <th>Limit</th>\n",
       "      <th>Rating</th>\n",
       "      <th>Cards</th>\n",
       "      <th>Age</th>\n",
       "      <th>Education</th>\n",
       "      <th>Own</th>\n",
       "      <th>Student</th>\n",
       "      <th>Married</th>\n",
       "      <th>Region</th>\n",
       "      <th>Balance</th>\n",
       "    </tr>\n",
       "  </thead>\n",
       "  <tbody>\n",
       "    <tr>\n",
       "      <th>0</th>\n",
       "      <td>14.891</td>\n",
       "      <td>3606</td>\n",
       "      <td>283</td>\n",
       "      <td>2</td>\n",
       "      <td>34</td>\n",
       "      <td>11</td>\n",
       "      <td>No</td>\n",
       "      <td>No</td>\n",
       "      <td>Yes</td>\n",
       "      <td>South</td>\n",
       "      <td>333</td>\n",
       "    </tr>\n",
       "    <tr>\n",
       "      <th>1</th>\n",
       "      <td>106.025</td>\n",
       "      <td>6645</td>\n",
       "      <td>483</td>\n",
       "      <td>3</td>\n",
       "      <td>82</td>\n",
       "      <td>15</td>\n",
       "      <td>Yes</td>\n",
       "      <td>Yes</td>\n",
       "      <td>Yes</td>\n",
       "      <td>West</td>\n",
       "      <td>903</td>\n",
       "    </tr>\n",
       "    <tr>\n",
       "      <th>2</th>\n",
       "      <td>104.593</td>\n",
       "      <td>7075</td>\n",
       "      <td>514</td>\n",
       "      <td>4</td>\n",
       "      <td>71</td>\n",
       "      <td>11</td>\n",
       "      <td>No</td>\n",
       "      <td>No</td>\n",
       "      <td>No</td>\n",
       "      <td>West</td>\n",
       "      <td>580</td>\n",
       "    </tr>\n",
       "    <tr>\n",
       "      <th>3</th>\n",
       "      <td>148.924</td>\n",
       "      <td>9504</td>\n",
       "      <td>681</td>\n",
       "      <td>3</td>\n",
       "      <td>36</td>\n",
       "      <td>11</td>\n",
       "      <td>Yes</td>\n",
       "      <td>No</td>\n",
       "      <td>No</td>\n",
       "      <td>West</td>\n",
       "      <td>964</td>\n",
       "    </tr>\n",
       "    <tr>\n",
       "      <th>4</th>\n",
       "      <td>55.882</td>\n",
       "      <td>4897</td>\n",
       "      <td>357</td>\n",
       "      <td>2</td>\n",
       "      <td>68</td>\n",
       "      <td>16</td>\n",
       "      <td>No</td>\n",
       "      <td>No</td>\n",
       "      <td>Yes</td>\n",
       "      <td>South</td>\n",
       "      <td>331</td>\n",
       "    </tr>\n",
       "  </tbody>\n",
       "</table>\n",
       "</div>"
      ],
      "text/plain": [
       "    Income  Limit  Rating  Cards  Age  Education  Own Student Married Region  \\\n",
       "0   14.891   3606     283      2   34         11   No      No     Yes  South   \n",
       "1  106.025   6645     483      3   82         15  Yes     Yes     Yes   West   \n",
       "2  104.593   7075     514      4   71         11   No      No      No   West   \n",
       "3  148.924   9504     681      3   36         11  Yes      No      No   West   \n",
       "4   55.882   4897     357      2   68         16   No      No     Yes  South   \n",
       "\n",
       "   Balance  \n",
       "0      333  \n",
       "1      903  \n",
       "2      580  \n",
       "3      964  \n",
       "4      331  "
      ]
     },
     "execution_count": 14,
     "metadata": {},
     "output_type": "execute_result"
    }
   ],
   "source": [
    "# Load the credit data:\n",
    "df_credit = pd.read_csv('datasets/Credit.csv')\n",
    "df_credit.head()"
   ]
  },
  {
   "cell_type": "code",
   "execution_count": 15,
   "id": "62d829dd-609b-4ab7-9852-ae55f71471c8",
   "metadata": {},
   "outputs": [],
   "source": [
    "# The response variable will be 'Balance'\n",
    "x = df_credit.drop('Balance', axis=1)\n",
    "y = df_credit['Balance']\n",
    "x_train, x_test, y_train, y_test = train_test_split(x, y, test_size = 0.2, random_state=42)"
   ]
  },
  {
   "cell_type": "code",
   "execution_count": 16,
   "id": "b04bf6a9-9401-40ce-9269-a4f720453279",
   "metadata": {},
   "outputs": [
    {
     "name": "stdout",
     "output_type": "stream",
     "text": [
      "Error!: could not convert string to float: 'Yes'\n"
     ]
    }
   ],
   "source": [
    "# Trying to fit on all features in their current representation throws an error:\n",
    "try:\n",
    "    test_model = LinearRegression().fit(x_train, y_train)\n",
    "except Exception as e:\n",
    "    print('Error!:', e)\n",
    "    "
   ]
  },
  {
   "cell_type": "code",
   "execution_count": 17,
   "id": "96c32b77-b272-4faa-9b29-0a64035c63cc",
   "metadata": {},
   "outputs": [
    {
     "data": {
      "text/plain": [
       "Income       float64\n",
       "Limit          int64\n",
       "Rating         int64\n",
       "Cards          int64\n",
       "Age            int64\n",
       "Education      int64\n",
       "Own           object\n",
       "Student       object\n",
       "Married       object\n",
       "Region        object\n",
       "Balance        int64\n",
       "dtype: object"
      ]
     },
     "execution_count": 17,
     "metadata": {},
     "output_type": "execute_result"
    }
   ],
   "source": [
    "# Inspect the data types of the DataFrame's columns:\n",
    "df_credit.dtypes"
   ]
  },
  {
   "cell_type": "code",
   "execution_count": 19,
   "id": "a6c10913-5679-4628-9e19-36f88b842638",
   "metadata": {},
   "outputs": [
    {
     "name": "stdout",
     "output_type": "stream",
     "text": [
      "Train R^2: 0.8884475002185803\n",
      "Test R^2: 0.8212531865399557\n"
     ]
    }
   ],
   "source": [
    "# Fit a linear model using only the numeric features in the dataframe:\n",
    "numeric_features = ['Income', 'Limit', 'Rating', 'Cards', 'Age', 'Education']\n",
    "model1 = LinearRegression().fit(x_train[numeric_features], y_train)\n",
    "\n",
    "# Report train and test R^2 scores:\n",
    "train_score = model1.score(x_train[numeric_features], y_train)\n",
    "test_score = model1.score(x_test[numeric_features], y_test)\n",
    "\n",
    "print('Train R^2:', train_score)\n",
    "print('Test R^2:', test_score)"
   ]
  },
  {
   "cell_type": "code",
   "execution_count": 21,
   "id": "0fe89e55-f65b-4c48-a342-0aa1a743ea2e",
   "metadata": {},
   "outputs": [
    {
     "name": "stdout",
     "output_type": "stream",
     "text": [
      "In the train data, Region takes on the values: ['West', 'South', 'East']\n"
     ]
    }
   ],
   "source": [
    "# Look at the unique values of the Region feature (EdX has Ethnicity but this data set has Region instead)\n",
    "print('In the train data, Region takes on the values:', list(x_train['Region'].unique()))"
   ]
  },
  {
   "cell_type": "code",
   "execution_count": 22,
   "id": "ad2de5f4-f125-41d7-a41a-a65b602c0f6f",
   "metadata": {},
   "outputs": [
    {
     "data": {
      "text/html": [
       "<div>\n",
       "<style scoped>\n",
       "    .dataframe tbody tr th:only-of-type {\n",
       "        vertical-align: middle;\n",
       "    }\n",
       "\n",
       "    .dataframe tbody tr th {\n",
       "        vertical-align: top;\n",
       "    }\n",
       "\n",
       "    .dataframe thead th {\n",
       "        text-align: right;\n",
       "    }\n",
       "</style>\n",
       "<table border=\"1\" class=\"dataframe\">\n",
       "  <thead>\n",
       "    <tr style=\"text-align: right;\">\n",
       "      <th></th>\n",
       "      <th>Income</th>\n",
       "      <th>Limit</th>\n",
       "      <th>Rating</th>\n",
       "      <th>Cards</th>\n",
       "      <th>Age</th>\n",
       "      <th>Education</th>\n",
       "      <th>Own_Yes</th>\n",
       "      <th>Student_Yes</th>\n",
       "      <th>Married_Yes</th>\n",
       "      <th>Region_South</th>\n",
       "      <th>Region_West</th>\n",
       "    </tr>\n",
       "  </thead>\n",
       "  <tbody>\n",
       "    <tr>\n",
       "      <th>3</th>\n",
       "      <td>148.924</td>\n",
       "      <td>9504</td>\n",
       "      <td>681</td>\n",
       "      <td>3</td>\n",
       "      <td>36</td>\n",
       "      <td>11</td>\n",
       "      <td>1</td>\n",
       "      <td>0</td>\n",
       "      <td>0</td>\n",
       "      <td>0</td>\n",
       "      <td>1</td>\n",
       "    </tr>\n",
       "    <tr>\n",
       "      <th>18</th>\n",
       "      <td>49.570</td>\n",
       "      <td>6384</td>\n",
       "      <td>448</td>\n",
       "      <td>1</td>\n",
       "      <td>28</td>\n",
       "      <td>9</td>\n",
       "      <td>1</td>\n",
       "      <td>0</td>\n",
       "      <td>1</td>\n",
       "      <td>0</td>\n",
       "      <td>1</td>\n",
       "    </tr>\n",
       "    <tr>\n",
       "      <th>202</th>\n",
       "      <td>21.038</td>\n",
       "      <td>1448</td>\n",
       "      <td>145</td>\n",
       "      <td>2</td>\n",
       "      <td>58</td>\n",
       "      <td>13</td>\n",
       "      <td>1</td>\n",
       "      <td>0</td>\n",
       "      <td>1</td>\n",
       "      <td>1</td>\n",
       "      <td>0</td>\n",
       "    </tr>\n",
       "    <tr>\n",
       "      <th>250</th>\n",
       "      <td>10.363</td>\n",
       "      <td>2430</td>\n",
       "      <td>191</td>\n",
       "      <td>2</td>\n",
       "      <td>47</td>\n",
       "      <td>18</td>\n",
       "      <td>1</td>\n",
       "      <td>0</td>\n",
       "      <td>1</td>\n",
       "      <td>0</td>\n",
       "      <td>1</td>\n",
       "    </tr>\n",
       "    <tr>\n",
       "      <th>274</th>\n",
       "      <td>30.550</td>\n",
       "      <td>5869</td>\n",
       "      <td>439</td>\n",
       "      <td>5</td>\n",
       "      <td>81</td>\n",
       "      <td>9</td>\n",
       "      <td>1</td>\n",
       "      <td>0</td>\n",
       "      <td>0</td>\n",
       "      <td>0</td>\n",
       "      <td>0</td>\n",
       "    </tr>\n",
       "  </tbody>\n",
       "</table>\n",
       "</div>"
      ],
      "text/plain": [
       "      Income  Limit  Rating  Cards  Age  Education  Own_Yes  Student_Yes  \\\n",
       "3    148.924   9504     681      3   36         11        1            0   \n",
       "18    49.570   6384     448      1   28          9        1            0   \n",
       "202   21.038   1448     145      2   58         13        1            0   \n",
       "250   10.363   2430     191      2   47         18        1            0   \n",
       "274   30.550   5869     439      5   81          9        1            0   \n",
       "\n",
       "     Married_Yes  Region_South  Region_West  \n",
       "3              0             0            1  \n",
       "18             1             0            1  \n",
       "202            1             1            0  \n",
       "250            1             0            1  \n",
       "274            0             0            0  "
      ]
     },
     "execution_count": 22,
     "metadata": {},
     "output_type": "execute_result"
    }
   ],
   "source": [
    "# Create x train and test design matrices creating dummy variables for the categorical.\n",
    "# Use pd.get_dummies() with the drop_first hyperparameter for this\n",
    "# Split the data into training and testing sets:\n",
    "x_train_design = pd.get_dummies(x_train, columns = ['Own', 'Student', 'Married', 'Region'], drop_first = True)\n",
    "x_test_design = pd.get_dummies(x_test, columns = ['Own', 'Student', 'Married', 'Region'], drop_first = True)\n",
    "x_train_design.head()"
   ]
  },
  {
   "cell_type": "code",
   "execution_count": 24,
   "id": "e7b50be7-ad8d-41d3-8315-462e86bcbf05",
   "metadata": {},
   "outputs": [
    {
     "data": {
      "text/plain": [
       "Income          float64\n",
       "Limit             int64\n",
       "Rating            int64\n",
       "Cards             int64\n",
       "Age               int64\n",
       "Education         int64\n",
       "Own_Yes           uint8\n",
       "Student_Yes       uint8\n",
       "Married_Yes       uint8\n",
       "Region_South      uint8\n",
       "Region_West       uint8\n",
       "dtype: object"
      ]
     },
     "execution_count": 24,
     "metadata": {},
     "output_type": "execute_result"
    }
   ],
   "source": [
    "# Confirm that all data types are now numeric:\n",
    "x_train_design.dtypes"
   ]
  },
  {
   "cell_type": "code",
   "execution_count": 25,
   "id": "a20e205d-7eaf-47f0-b329-5bb40396eb55",
   "metadata": {},
   "outputs": [
    {
     "name": "stdout",
     "output_type": "stream",
     "text": [
      "Train R^2: 0.9552255011405162\n",
      "Test R^2: 0.9522674050276462\n"
     ]
    }
   ],
   "source": [
    "# Fit model2 on design matrix:\n",
    "model2 = LinearRegression().fit(x_train_design, y_train)\n",
    "\n",
    "# Report train and test R^2 scores:\n",
    "train_score = model2.score(x_train_design, y_train)\n",
    "test_score = model2.score(x_test_design, y_test)\n",
    "print('Train R^2:', train_score)\n",
    "print('Test R^2:', test_score)"
   ]
  },
  {
   "cell_type": "code",
   "execution_count": 34,
   "id": "f45abe70-6e18-41d1-a63c-d21c5f8134f1",
   "metadata": {},
   "outputs": [
    {
     "data": {
      "text/html": [
       "<div>\n",
       "<style scoped>\n",
       "    .dataframe tbody tr th:only-of-type {\n",
       "        vertical-align: middle;\n",
       "    }\n",
       "\n",
       "    .dataframe tbody tr th {\n",
       "        vertical-align: top;\n",
       "    }\n",
       "\n",
       "    .dataframe thead th {\n",
       "        text-align: right;\n",
       "    }\n",
       "</style>\n",
       "<table border=\"1\" class=\"dataframe\">\n",
       "  <thead>\n",
       "    <tr style=\"text-align: right;\">\n",
       "      <th></th>\n",
       "      <th>beta_value</th>\n",
       "    </tr>\n",
       "  </thead>\n",
       "  <tbody>\n",
       "    <tr>\n",
       "      <th>Income</th>\n",
       "      <td>-7.554059</td>\n",
       "    </tr>\n",
       "    <tr>\n",
       "      <th>Limit</th>\n",
       "      <td>0.198058</td>\n",
       "    </tr>\n",
       "    <tr>\n",
       "      <th>Rating</th>\n",
       "      <td>0.971292</td>\n",
       "    </tr>\n",
       "    <tr>\n",
       "      <th>Cards</th>\n",
       "      <td>19.123826</td>\n",
       "    </tr>\n",
       "    <tr>\n",
       "      <th>Age</th>\n",
       "      <td>-0.603695</td>\n",
       "    </tr>\n",
       "    <tr>\n",
       "      <th>Education</th>\n",
       "      <td>-1.078674</td>\n",
       "    </tr>\n",
       "    <tr>\n",
       "      <th>Own_Yes</th>\n",
       "      <td>-12.493725</td>\n",
       "    </tr>\n",
       "    <tr>\n",
       "      <th>Student_Yes</th>\n",
       "      <td>418.435398</td>\n",
       "    </tr>\n",
       "    <tr>\n",
       "      <th>Married_Yes</th>\n",
       "      <td>-6.150365</td>\n",
       "    </tr>\n",
       "    <tr>\n",
       "      <th>Region_South</th>\n",
       "      <td>11.517153</td>\n",
       "    </tr>\n",
       "    <tr>\n",
       "      <th>Region_West</th>\n",
       "      <td>13.295548</td>\n",
       "    </tr>\n",
       "  </tbody>\n",
       "</table>\n",
       "</div>"
      ],
      "text/plain": [
       "              beta_value\n",
       "Income         -7.554059\n",
       "Limit           0.198058\n",
       "Rating          0.971292\n",
       "Cards          19.123826\n",
       "Age            -0.603695\n",
       "Education      -1.078674\n",
       "Own_Yes       -12.493725\n",
       "Student_Yes   418.435398\n",
       "Married_Yes    -6.150365\n",
       "Region_South   11.517153\n",
       "Region_West    13.295548"
      ]
     },
     "execution_count": 34,
     "metadata": {},
     "output_type": "execute_result"
    }
   ],
   "source": [
    "# Note that the intercept is not a part of the .coef_:\n",
    "coefs = pd.DataFrame(model2.coef_, index=x_train_design.columns, columns = ['beta_value'])\n",
    "coefs"
   ]
  },
  {
   "cell_type": "code",
   "execution_count": 37,
   "id": "0ed7c0a2-1c44-429a-9cea-afe4786daecc",
   "metadata": {},
   "outputs": [
    {
     "data": {
      "text/plain": [
       "-465.0532421382925"
      ]
     },
     "execution_count": 37,
     "metadata": {},
     "output_type": "execute_result"
    }
   ],
   "source": [
    "model2.intercept_"
   ]
  },
  {
   "cell_type": "code",
   "execution_count": 27,
   "id": "50c054d3-5eef-43d9-935a-c0234c0e3945",
   "metadata": {},
   "outputs": [
    {
     "data": {
      "text/plain": [
       "[Text(0.5, 1.0, 'Model Coefficients')]"
      ]
     },
     "execution_count": 27,
     "metadata": {},
     "output_type": "execute_result"
    },
    {
     "data": {
      "image/png": "[encoded data removed]",
      "text/plain": [
       "<Figure size 640x480 with 1 Axes>"
      ]
     },
     "metadata": {},
     "output_type": "display_data"
    }
   ],
   "source": [
    "# Visualize crude measure of feature importance:\n",
    "sns.barplot(data = coefs.T, orient = 'h').set(title='Model Coefficients')"
   ]
  },
  {
   "cell_type": "code",
   "execution_count": 38,
   "id": "a4f3c523-0862-478f-a785-65e0cd0f6ca6",
   "metadata": {},
   "outputs": [
    {
     "data": {
      "text/html": [
       "<div>\n",
       "<style scoped>\n",
       "    .dataframe tbody tr th:only-of-type {\n",
       "        vertical-align: middle;\n",
       "    }\n",
       "\n",
       "    .dataframe tbody tr th {\n",
       "        vertical-align: top;\n",
       "    }\n",
       "\n",
       "    .dataframe thead th {\n",
       "        text-align: right;\n",
       "    }\n",
       "</style>\n",
       "<table border=\"1\" class=\"dataframe\">\n",
       "  <thead>\n",
       "    <tr style=\"text-align: right;\">\n",
       "      <th></th>\n",
       "      <th>beta_value</th>\n",
       "    </tr>\n",
       "  </thead>\n",
       "  <tbody>\n",
       "    <tr>\n",
       "      <th>Intercept</th>\n",
       "      <td>177.658909</td>\n",
       "    </tr>\n",
       "    <tr>\n",
       "      <th>Income</th>\n",
       "      <td>6.773090</td>\n",
       "    </tr>\n",
       "    <tr>\n",
       "      <th>Student_Yes</th>\n",
       "      <td>371.895694</td>\n",
       "    </tr>\n",
       "  </tbody>\n",
       "</table>\n",
       "</div>"
      ],
      "text/plain": [
       "             beta_value\n",
       "Intercept    177.658909\n",
       "Income         6.773090\n",
       "Student_Yes  371.895694"
      ]
     },
     "execution_count": 38,
     "metadata": {},
     "output_type": "execute_result"
    }
   ],
   "source": [
    "# Fit a model to predict Balance from 2 predictors: Income and the best categorical from above (student_yes)\n",
    "# Specify the best categorical feature:\n",
    "best_cat_feature = 'Student_Yes'\n",
    "\n",
    "# Define the model:\n",
    "features = ['Income', best_cat_feature]\n",
    "model3 = LinearRegression()\n",
    "model3.fit(x_train_design[features], y_train)\n",
    "\n",
    "# Collect betas from fitted model:\n",
    "beta0 = model3.intercept_\n",
    "beta1 = model3.coef_[features.index('Income')]\n",
    "beta2 = model3.coef_[features.index(best_cat_feature)]\n",
    "\n",
    "# Display betas in a DataFrame:\n",
    "coefs = pd.DataFrame([beta0, beta1, beta2], index=['Intercept']+features, columns=['beta_value'])\n",
    "coefs"
   ]
  },
  {
   "cell_type": "code",
   "execution_count": 39,
   "id": "8eaefb83-1b35-4a3d-b29c-335d823c6a1d",
   "metadata": {},
   "outputs": [
    {
     "data": {
      "image/png": "[encoded data removed]",
      "text/plain": [
       "<Figure size 640x480 with 1 Axes>"
      ]
     },
     "metadata": {},
     "output_type": "display_data"
    }
   ],
   "source": [
    "# Visualize crude measure of feature importance:\n",
    "sns.barplot(data=coefs.T, orient='h').set(title='Model Coefficients');"
   ]
  },
  {
   "cell_type": "code",
   "execution_count": 40,
   "id": "b8c4026f-eaad-4b79-8359-b78ee177e668",
   "metadata": {},
   "outputs": [
    {
     "data": {
      "image/png": "[encoded data removed]",
      "text/plain": [
       "<Figure size 640x480 with 1 Axes>"
      ]
     },
     "metadata": {},
     "output_type": "display_data"
    }
   ],
   "source": [
    "# Create space of x values to predict on:\n",
    "x_space = np.linspace(x['Income'].min(), x['Income'].max(), 1000)\n",
    "# Creating a range from min to max of the income data and generating 1000 items\n",
    "\n",
    "\n",
    "# Generate 2 sets of predictions based on best categorical feature value\n",
    "# When categorical feature is true/present (1)\n",
    "y_hat_yes = beta0 + beta1 * x_space + beta2 * 1\n",
    "\n",
    "# When categorical feature is false/absent (0)\n",
    "y_hat_no = beta0 + beta1 * x_space + beta2 * 0\n",
    "\n",
    "# Plot the 2 prediction lines for students and non-students:\n",
    "ax = sns.scatterplot(data=pd.concat([x_train_design, y_train], axis =1), x='Income', y ='Balance', hue=best_cat_feature, alpha=0.8)\n",
    "ax.plot(x_space, y_hat_no)\n",
    "ax.plot(x_space, y_hat_yes);"
   ]
  },
  {
   "cell_type": "markdown",
   "id": "4e059aee-db5d-461c-8bdb-e713abc6115f",
   "metadata": {},
   "source": [
    "---------------------------------"
   ]
  },
  {
   "cell_type": "markdown",
   "id": "3351aeab-21bc-4f27-a064-096d4ebe64f7",
   "metadata": {},
   "source": [
    "## Features on Different Scales"
   ]
  },
  {
   "cell_type": "code",
   "execution_count": 41,
   "id": "1233070f-f228-464d-a839-a8da88e75b24",
   "metadata": {},
   "outputs": [],
   "source": [
    "import pandas as pd\n",
    "import matplotlib.pyplot as plt\n",
    "from sklearn.linear_model import LinearRegression"
   ]
  },
  {
   "cell_type": "markdown",
   "id": "6312a00c-63ca-40c3-8457-feadaa662253",
   "metadata": {},
   "source": [
    "### Corefficient Interpretation on Different Scales"
   ]
  },
  {
   "cell_type": "markdown",
   "id": "50ae7f5b-ca89-4f28-821e-10cd09bbeef1",
   "metadata": {},
   "source": [
    "Below, we'll interpret a regression model's coefficients to understand the relationship between the predictors and the response.\n",
    "We'll use the advertising data."
   ]
  },
  {
   "cell_type": "code",
   "execution_count": 43,
   "id": "c4c887ee-e196-471f-a101-c5cb57b9eb70",
   "metadata": {},
   "outputs": [
    {
     "data": {
      "text/html": [
       "<div>\n",
       "<style scoped>\n",
       "    .dataframe tbody tr th:only-of-type {\n",
       "        vertical-align: middle;\n",
       "    }\n",
       "\n",
       "    .dataframe tbody tr th {\n",
       "        vertical-align: top;\n",
       "    }\n",
       "\n",
       "    .dataframe thead th {\n",
       "        text-align: right;\n",
       "    }\n",
       "</style>\n",
       "<table border=\"1\" class=\"dataframe\">\n",
       "  <thead>\n",
       "    <tr style=\"text-align: right;\">\n",
       "      <th></th>\n",
       "      <th>TV</th>\n",
       "      <th>Radio</th>\n",
       "      <th>Newspaper</th>\n",
       "      <th>Sales</th>\n",
       "    </tr>\n",
       "  </thead>\n",
       "  <tbody>\n",
       "    <tr>\n",
       "      <th>0</th>\n",
       "      <td>230.1</td>\n",
       "      <td>37.8</td>\n",
       "      <td>69.2</td>\n",
       "      <td>22.1</td>\n",
       "    </tr>\n",
       "    <tr>\n",
       "      <th>1</th>\n",
       "      <td>44.5</td>\n",
       "      <td>39.3</td>\n",
       "      <td>45.1</td>\n",
       "      <td>10.4</td>\n",
       "    </tr>\n",
       "    <tr>\n",
       "      <th>2</th>\n",
       "      <td>17.2</td>\n",
       "      <td>45.9</td>\n",
       "      <td>69.3</td>\n",
       "      <td>12.0</td>\n",
       "    </tr>\n",
       "    <tr>\n",
       "      <th>3</th>\n",
       "      <td>151.5</td>\n",
       "      <td>41.3</td>\n",
       "      <td>58.5</td>\n",
       "      <td>16.5</td>\n",
       "    </tr>\n",
       "    <tr>\n",
       "      <th>4</th>\n",
       "      <td>180.8</td>\n",
       "      <td>10.8</td>\n",
       "      <td>58.4</td>\n",
       "      <td>17.9</td>\n",
       "    </tr>\n",
       "  </tbody>\n",
       "</table>\n",
       "</div>"
      ],
      "text/plain": [
       "      TV  Radio  Newspaper  Sales\n",
       "0  230.1   37.8       69.2   22.1\n",
       "1   44.5   39.3       45.1   10.4\n",
       "2   17.2   45.9       69.3   12.0\n",
       "3  151.5   41.3       58.5   16.5\n",
       "4  180.8   10.8       58.4   17.9"
      ]
     },
     "execution_count": 43,
     "metadata": {},
     "output_type": "execute_result"
    }
   ],
   "source": [
    "df_adv = pd.read_csv('datasets/advertising.csv')\n",
    "df_adv.head()"
   ]
  },
  {
   "cell_type": "markdown",
   "id": "42745e62-fea5-439f-8160-07acf44cebba",
   "metadata": {},
   "source": [
    "All values are in thousands of dollars.\n",
    "Again, we want to predict Sales from the various media advertising budgets.\n",
    "\n",
    "So next we'll create our predictor matrix, X and response vector, y."
   ]
  },
  {
   "cell_type": "code",
   "execution_count": 44,
   "id": "38138b46-4d14-45cc-9964-e7eccff60d8f",
   "metadata": {},
   "outputs": [],
   "source": [
    "X = df_adv.drop('Sales', axis = 1)\n",
    "y = df_adv.Sales.values"
   ]
  },
  {
   "cell_type": "markdown",
   "id": "a5563b3f-ce7f-44e7-acb8-edff627ae92a",
   "metadata": {},
   "source": [
    "Which we can use to fit our linear regression model."
   ]
  },
  {
   "cell_type": "code",
   "execution_count": 45,
   "id": "5b040661-097e-47e2-ae52-07aef71e5931",
   "metadata": {},
   "outputs": [],
   "source": [
    "lm = LinearRegression().fit(X,y)"
   ]
  },
  {
   "cell_type": "markdown",
   "id": "5350c37c-c490-4373-9ad6-960ea6d9f31a",
   "metadata": {},
   "source": [
    "Now we inspect the predictor coefficient values derived from the fit.\n",
    "These are the $\\beta$ values that maximize our $R^2$ loss."
   ]
  },
  {
   "cell_type": "code",
   "execution_count": 46,
   "id": "690a889d-6f67-484f-b01d-415e075493f3",
   "metadata": {},
   "outputs": [
    {
     "name": "stdout",
     "output_type": "stream",
     "text": [
      "Model Coefficients\n",
      "       TV:  0.054\n",
      "    Radio:  0.107\n",
      "Newspaper:  0.000\n",
      "\n",
      "R^2: 0.9026\n"
     ]
    }
   ],
   "source": [
    "print(f'{\"Model Coefficients\":>9}')\n",
    "for col, coef in zip(X.columns, lm.coef_):\n",
    "    print(f'{col:>9}: {coef:>6.3f}')\n",
    "print(f'\\nR^2: {lm.score(X,y):.4}')\n",
    "\n",
    "# >9: right-aligned in a field of width 9.\n",
    "# >6.3:  right-aligned in a field of width 6 with 3 digits after the decimal point."
   ]
  },
  {
   "cell_type": "markdown",
   "id": "8cceb742-0837-455e-91d4-447cc42da4fa",
   "metadata": {},
   "source": [
    "As mentioned above, the original units are in thousands of dollars. To make discussion a bit simpler, we'll convert this to dollars by multiplying our original DataFrame by 1000. This will also help illustrate a point about **feature scaling**."
   ]
  },
  {
   "cell_type": "code",
   "execution_count": 47,
   "id": "ebf1eb8c-c89b-4845-81b4-eb2d095b33bc",
   "metadata": {},
   "outputs": [
    {
     "data": {
      "text/html": [
       "<div>\n",
       "<style scoped>\n",
       "    .dataframe tbody tr th:only-of-type {\n",
       "        vertical-align: middle;\n",
       "    }\n",
       "\n",
       "    .dataframe tbody tr th {\n",
       "        vertical-align: top;\n",
       "    }\n",
       "\n",
       "    .dataframe thead th {\n",
       "        text-align: right;\n",
       "    }\n",
       "</style>\n",
       "<table border=\"1\" class=\"dataframe\">\n",
       "  <thead>\n",
       "    <tr style=\"text-align: right;\">\n",
       "      <th></th>\n",
       "      <th>TV</th>\n",
       "      <th>Radio</th>\n",
       "      <th>Newspaper</th>\n",
       "      <th>Sales</th>\n",
       "    </tr>\n",
       "  </thead>\n",
       "  <tbody>\n",
       "    <tr>\n",
       "      <th>0</th>\n",
       "      <td>230100.0</td>\n",
       "      <td>37800.0</td>\n",
       "      <td>69200.0</td>\n",
       "      <td>22100.0</td>\n",
       "    </tr>\n",
       "    <tr>\n",
       "      <th>1</th>\n",
       "      <td>44500.0</td>\n",
       "      <td>39300.0</td>\n",
       "      <td>45100.0</td>\n",
       "      <td>10400.0</td>\n",
       "    </tr>\n",
       "    <tr>\n",
       "      <th>2</th>\n",
       "      <td>17200.0</td>\n",
       "      <td>45900.0</td>\n",
       "      <td>69300.0</td>\n",
       "      <td>12000.0</td>\n",
       "    </tr>\n",
       "    <tr>\n",
       "      <th>3</th>\n",
       "      <td>151500.0</td>\n",
       "      <td>41300.0</td>\n",
       "      <td>58500.0</td>\n",
       "      <td>16500.0</td>\n",
       "    </tr>\n",
       "    <tr>\n",
       "      <th>4</th>\n",
       "      <td>180800.0</td>\n",
       "      <td>10800.0</td>\n",
       "      <td>58400.0</td>\n",
       "      <td>17900.0</td>\n",
       "    </tr>\n",
       "  </tbody>\n",
       "</table>\n",
       "</div>"
      ],
      "text/plain": [
       "         TV    Radio  Newspaper    Sales\n",
       "0  230100.0  37800.0    69200.0  22100.0\n",
       "1   44500.0  39300.0    45100.0  10400.0\n",
       "2   17200.0  45900.0    69300.0  12000.0\n",
       "3  151500.0  41300.0    58500.0  16500.0\n",
       "4  180800.0  10800.0    58400.0  17900.0"
      ]
     },
     "execution_count": 47,
     "metadata": {},
     "output_type": "execute_result"
    }
   ],
   "source": [
    "df_adv *= 1000\n",
    "df_adv.head()"
   ]
  },
  {
   "cell_type": "markdown",
   "id": "cf58f27b-f39b-474c-855b-127df68a212b",
   "metadata": {},
   "source": [
    "What do you expect to happen to the coefficients of the model now that it's been fit on scaled up data?"
   ]
  },
  {
   "cell_type": "code",
   "execution_count": 48,
   "id": "04f3e148-7fd4-4c9a-8c72-d527698c850b",
   "metadata": {},
   "outputs": [
    {
     "name": "stdout",
     "output_type": "stream",
     "text": [
      "Model Coefficients\n",
      "       TV:  0.054\n",
      "    Radio:  0.107\n",
      "Newspaper:  0.000\n",
      "\n",
      "R^2: 0.9026\n"
     ]
    }
   ],
   "source": [
    "# refit a new regression model on the scaled data:\n",
    "X = df_adv.drop('Sales', axis = 1)\n",
    "y = df_adv.Sales.values\n",
    "lm = LinearRegression().fit(X,y)\n",
    "\n",
    "print(f'{\"Model Coefficients\":>9}')\n",
    "for col, coef in zip(X.columns, lm.coef_):\n",
    "    print(f'{col:>9}: {coef:>6.3f}')\n",
    "print(f'\\nR^2: {lm.score(X,y):.4}')"
   ]
  },
  {
   "cell_type": "markdown",
   "id": "c9703787-0b62-408e-8012-0aaecb50bc39",
   "metadata": {},
   "source": [
    "The coefficients and the loss are exactly the same. This is not a mistake. **Linear regression coefficients are invariant under scaling**. That's because we've scaled the entire data set (both the predictors *and* the response by the same amount).\n",
    "\n",
    "If a \\\\$1,000 increase in the TV budget is associated with a $\\beta$ thousand dollar increase in Sales, then a \\\\$1 increase in TB budget will result in an observed $\\beta$ dollar increase in Sales."
   ]
  },
  {
   "cell_type": "markdown",
   "id": "079b8d76-13c6-4052-82e8-e73496b856b8",
   "metadata": {},
   "source": [
    "Visual Interpretation\n",
    "\n",
    "Let's create a visualization to help us interpret our model's coefficients.\n",
    "We'll use a horizontal bar plot."
   ]
  },
  {
   "cell_type": "code",
   "execution_count": 49,
   "id": "40bd8bab-7c50-4e58-a5d4-1d0ec3a80d1e",
   "metadata": {},
   "outputs": [
    {
     "data": {
      "image/png": "[encoded data removed]",
      "text/plain": [
       "<Figure size 800x300 with 1 Axes>"
      ]
     },
     "metadata": {},
     "output_type": "display_data"
    }
   ],
   "source": [
    "plt.figure(figsize=(8,3))\n",
    "# Column names to be displayed on the y-axis\n",
    "cols = X.columns\n",
    "# Coefficient values from our fitted model (the intercept is not included)\n",
    "coefs = lm.coef_\n",
    "# Create the horizontal bar plot \n",
    "plt.barh(cols, coefs)\n",
    "# Dotted, semi-transparent, black vertical line at zero\n",
    "plt.axvline(0, c='k', ls='--', alpha=0.5)\n",
    "# Always label your axes\n",
    "plt.ylabel('Predictor')\n",
    "plt.xlabel('Coefficient Values')\n",
    "# and create an informative title:\n",
    "plt.title('Coefficients of Linear Model Predicting Sales\\n from Newspaper, '\\\n",
    "            'Radio, and TV Advertising Budgets (in Dollars)');"
   ]
  },
  {
   "cell_type": "markdown",
   "id": "b18ee1ec-d552-4532-b367-85bf5916605f",
   "metadata": {},
   "source": [
    "What happens when our predictors are not all on the same scale?\n",
    "We'll change the units of the 3 budgets by converting them into different currencies. Use the following conversion rates for this exercise:"
   ]
  },
  {
   "cell_type": "markdown",
   "id": "39180ebf-4563-4ddb-95c1-bec66dad653e",
   "metadata": {},
   "source": [
    "200 Sri Lankan Rupee = \\$1\n",
    "\n",
    "1,175 South Korean Won = \\$1\n",
    "\n",
    "6 Ghanaian Cedi = \\$1\n"
   ]
  },
  {
   "cell_type": "code",
   "execution_count": 51,
   "id": "8b6c72de-0ea9-46ff-9c07-16d049077729",
   "metadata": {},
   "outputs": [],
   "source": [
    "# Create a new DataFrame to store the converted budgets\n",
    "X2 = pd.DataFrame()\n",
    "X2['TV (Rupee)'] = 200 * df_adv['TV'] # convert to Sri Lankan Rupee\n",
    "X2['Radio (Won)'] = 1175 * df_adv['Radio'] # convert to South Korean Won\n",
    "X2['Newspaper (Cedi)'] = 6 * df_adv['Newspaper'] # convert to Ghanian Cedi"
   ]
  },
  {
   "cell_type": "code",
   "execution_count": 52,
   "id": "a27cee66-afda-4df3-97c6-897245a602ba",
   "metadata": {},
   "outputs": [],
   "source": [
    "# We can use our original y as we have not converted the units for Sales\n",
    "lm2 = LinearRegression().fit(X2, y)"
   ]
  },
  {
   "cell_type": "markdown",
   "id": "fa31a125-fc0b-41c8-9b84-cfcb724e6f15",
   "metadata": {},
   "source": [
    "Let's look at the coefficient values from the fit on the converted budgets."
   ]
  },
  {
   "cell_type": "code",
   "execution_count": 54,
   "id": "7b1efa39-c76d-474c-8d1a-ab6be118bc80",
   "metadata": {},
   "outputs": [
    {
     "name": "stdout",
     "output_type": "stream",
     "text": [
      "Model Coefficients\n",
      "      TV (Rupee):  0.00027\n",
      "     Radio (Won):  0.00009\n",
      "Newspaper (Cedi):  0.00006\n",
      "\n",
      "R^2: 0.9026\n"
     ]
    }
   ],
   "source": [
    "print(f'{\"Model Coefficients\":>16}')\n",
    "for col, coef in zip(X2.columns, lm2.coef_):\n",
    "    print(f'{col:>16}: {coef:>8.5f}')\n",
    "print(f'\\nR^2: {lm2.score(X2,y):.4}')"
   ]
  },
  {
   "cell_type": "markdown",
   "id": "a8ddf4b7-3755-4c69-963b-90b52ac9b884",
   "metadata": {},
   "source": [
    "**This time, scaling our predictors but not the response clearly caused a change in our coefficients.**"
   ]
  },
  {
   "cell_type": "markdown",
   "id": "3717843e-c179-43ce-9ae6-46e824a5742b",
   "metadata": {},
   "source": [
    "Now let's investigate how the coefficients changed relative to one another. Again, we'll use a helpful visualization."
   ]
  },
  {
   "cell_type": "code",
   "execution_count": 55,
   "id": "89771457-0315-430e-9f85-6a86531b363f",
   "metadata": {
    "scrolled": true
   },
   "outputs": [
    {
     "data": {
      "image/png": "[encoded data removed]",
      "text/plain": [
       "<Figure size 800x300 with 1 Axes>"
      ]
     },
     "metadata": {},
     "output_type": "display_data"
    }
   ],
   "source": [
    "plt.figure(figsize=(8,3))\n",
    "plt.barh(X2.columns, lm2.coef_)\n",
    "plt.axvline(0, c='k', ls='--', alpha=0.5)\n",
    "plt.ylabel('Predictor')\n",
    "plt.xlabel('Coefficient Values')\n",
    "plt.title('Coefficients of Linear Model Predicting Sales\\n from Newspaper, '\\\n",
    "            'Radio, and TV Advertising Budgets (Different Currencies)');"
   ]
  },
  {
   "cell_type": "markdown",
   "id": "f56dbfc9-31c6-41b0-a8f2-637c48d09d5e",
   "metadata": {},
   "source": [
    "Finally, it's important to recognize the limits of the x-axis differ between the two bar plots we've seen so far. We can better appreciate this difference by plotting both with a shared x-axis."
   ]
  },
  {
   "cell_type": "code",
   "execution_count": 56,
   "id": "bd01ddc0-6299-4014-9c53-70fe5588eda9",
   "metadata": {},
   "outputs": [
    {
     "data": {
      "image/png": "[encoded data removed]",
      "text/plain": [
       "<Figure size 800x600 with 2 Axes>"
      ]
     },
     "metadata": {},
     "output_type": "display_data"
    }
   ],
   "source": [
    "fig, axes = plt.subplots(2, 1, figsize = (8, 6), sharex = True)\n",
    "\n",
    "axes[0].barh(X.columns, lm.coef_)\n",
    "axes[0].set_title('Dollars');\n",
    "axes[1].barh(X2.columns, lm2.coef_)\n",
    "axes[1].set_title('Different Currencies')\n",
    "\n",
    "for ax in axes:\n",
    "    ax.axvline(0, c='k', ls='--', alpha=0.5)\n",
    "axes[0].set_ylabel('Predictor')\n",
    "axes[1].set_xlabel('Coefficient Values');"
   ]
  },
  {
   "cell_type": "markdown",
   "id": "3219f922-4a15-44e8-9021-206174f688a3",
   "metadata": {},
   "source": [
    "------------------------------------"
   ]
  },
  {
   "cell_type": "markdown",
   "id": "b93fc21f-8e19-40fe-9ac4-1d4f6e3bb20c",
   "metadata": {},
   "source": [
    "## Multi-collinearity vs Model Predictions"
   ]
  },
  {
   "cell_type": "code",
   "execution_count": 70,
   "id": "07dcde6b-49a3-4694-aa5d-5d55a3b7f9da",
   "metadata": {},
   "outputs": [],
   "source": [
    "# Import necessary libraries\n",
    "import numpy as np\n",
    "import pandas as pd\n",
    "import seaborn as sns \n",
    "from pprint import pprint\n",
    "import matplotlib.pyplot as plt\n",
    "from sklearn.linear_model import LinearRegression\n",
    "%matplotlib inline"
   ]
  },
  {
   "cell_type": "code",
   "execution_count": 71,
   "id": "7c09fcc9-d2ee-45cd-ae17-8e1bb81cffd8",
   "metadata": {},
   "outputs": [
    {
     "data": {
      "text/html": [
       "<div>\n",
       "<style scoped>\n",
       "    .dataframe tbody tr th:only-of-type {\n",
       "        vertical-align: middle;\n",
       "    }\n",
       "\n",
       "    .dataframe tbody tr th {\n",
       "        vertical-align: top;\n",
       "    }\n",
       "\n",
       "    .dataframe thead th {\n",
       "        text-align: right;\n",
       "    }\n",
       "</style>\n",
       "<table border=\"1\" class=\"dataframe\">\n",
       "  <thead>\n",
       "    <tr style=\"text-align: right;\">\n",
       "      <th></th>\n",
       "      <th>x1</th>\n",
       "      <th>x2</th>\n",
       "      <th>x3</th>\n",
       "      <th>x4</th>\n",
       "      <th>y</th>\n",
       "    </tr>\n",
       "  </thead>\n",
       "  <tbody>\n",
       "    <tr>\n",
       "      <th>0</th>\n",
       "      <td>-1.109823</td>\n",
       "      <td>-1.172554</td>\n",
       "      <td>-0.897949</td>\n",
       "      <td>-6.572526</td>\n",
       "      <td>-158.193913</td>\n",
       "    </tr>\n",
       "    <tr>\n",
       "      <th>1</th>\n",
       "      <td>0.288381</td>\n",
       "      <td>0.360526</td>\n",
       "      <td>2.298690</td>\n",
       "      <td>3.884887</td>\n",
       "      <td>198.312926</td>\n",
       "    </tr>\n",
       "    <tr>\n",
       "      <th>2</th>\n",
       "      <td>-1.059194</td>\n",
       "      <td>0.833067</td>\n",
       "      <td>0.285517</td>\n",
       "      <td>-1.225931</td>\n",
       "      <td>12.152087</td>\n",
       "    </tr>\n",
       "    <tr>\n",
       "      <th>3</th>\n",
       "      <td>0.226017</td>\n",
       "      <td>1.979367</td>\n",
       "      <td>0.744038</td>\n",
       "      <td>5.380823</td>\n",
       "      <td>190.281938</td>\n",
       "    </tr>\n",
       "    <tr>\n",
       "      <th>4</th>\n",
       "      <td>0.664165</td>\n",
       "      <td>-1.373739</td>\n",
       "      <td>0.317570</td>\n",
       "      <td>-0.437413</td>\n",
       "      <td>-72.681681</td>\n",
       "    </tr>\n",
       "  </tbody>\n",
       "</table>\n",
       "</div>"
      ],
      "text/plain": [
       "         x1        x2        x3        x4           y\n",
       "0 -1.109823 -1.172554 -0.897949 -6.572526 -158.193913\n",
       "1  0.288381  0.360526  2.298690  3.884887  198.312926\n",
       "2 -1.059194  0.833067  0.285517 -1.225931   12.152087\n",
       "3  0.226017  1.979367  0.744038  5.380823  190.281938\n",
       "4  0.664165 -1.373739  0.317570 -0.437413  -72.681681"
      ]
     },
     "execution_count": 71,
     "metadata": {},
     "output_type": "execute_result"
    }
   ],
   "source": [
    "df_colinearity = pd.read_csv('datasets/colinearity.csv')\n",
    "df_colinearity.head()"
   ]
  },
  {
   "cell_type": "markdown",
   "id": "e92e6775-eb86-4754-98c1-f529ff835f29",
   "metadata": {},
   "source": [
    "### Creation of Linear Regression Objects"
   ]
  },
  {
   "cell_type": "code",
   "execution_count": 72,
   "id": "312e003c-0fb0-455d-bb01-694f3dc24b8e",
   "metadata": {},
   "outputs": [],
   "source": [
    "# Choose all the predictiors as the variable 'X' (note the capitalization)\n",
    "X = df_colinearity.drop(['y'], axis = 1)\n",
    "\n",
    "# Choose the response variable 'y'\n",
    "y = df_colinearity.y.values"
   ]
  },
  {
   "cell_type": "code",
   "execution_count": 73,
   "id": "c026f5b7-2313-457b-a2b0-1a24ad8c46bf",
   "metadata": {},
   "outputs": [],
   "source": [
    "# Initialize a list to store the beta values for each linear regression model\n",
    "linear_coef = []\n",
    "\n",
    "# Loop over all the predictors\n",
    "# In each loop 'i' holds the name of the predictor\n",
    "for i in X:\n",
    "\n",
    "    # Set the current predictor as the variable x (lower case)\n",
    "    x = df_colinearity[[i]]\n",
    "\n",
    "    # Create a linear regression object:\n",
    "    linreg = LinearRegression()\n",
    "\n",
    "    # Fit the model with training data\n",
    "    # Remember to choose only one column at a time (x not X)\n",
    "    linreg.fit(x, y)\n",
    "\n",
    "    linear_coef.append(linreg.coef_)\n"
   ]
  },
  {
   "cell_type": "code",
   "execution_count": 74,
   "id": "a4416ab0-c7cf-45b1-b505-f8fab537ec97",
   "metadata": {},
   "outputs": [],
   "source": [
    "# Perform multiplinear regression with all predictors\n",
    "multi_linear = LinearRegression()\n",
    "\n",
    "# Fit the multi-linear regression on all features of the entire data\n",
    "multi_linear.fit(X, y)\n",
    "\n",
    "# Get the coefficients of the multi model\n",
    "multi_coef = multi_linear.coef_"
   ]
  },
  {
   "cell_type": "code",
   "execution_count": 78,
   "id": "4aa2f983-ec9d-47ea-b4e5-7bc3b9c5501a",
   "metadata": {},
   "outputs": [
    {
     "name": "stdout",
     "output_type": "stream",
     "text": [
      "By simple (one variable) linear regression for each variable:\n",
      "'Value of beta1 = 34.73'\n",
      "'Value of beta2 = 68.63'\n",
      "'Value of beta3 = 59.40'\n",
      "'Value of beta4 = 20.92'\n"
     ]
    }
   ],
   "source": [
    "# Helper code to see the beta values of the linear regression models:\n",
    "\n",
    "print('By simple (one variable) linear regression for each variable:', sep = '\\n')\n",
    "\n",
    "for i in range(len(X.columns)):\n",
    "    pprint(f'Value of beta{i + 1} = {linear_coef[i][0]:.2f}')"
   ]
  },
  {
   "cell_type": "code",
   "execution_count": 79,
   "id": "8f8d0192-7149-4450-8676-b82d0da206a1",
   "metadata": {},
   "outputs": [
    {
     "name": "stdout",
     "output_type": "stream",
     "text": [
      "By multi-Linear regression on all variables\n",
      "'Value of beta1 = 2196095.38'\n",
      "'Value of beta2 = 1464107.75'\n",
      "'Value of beta3 = 732077.69'\n",
      "'Value of beta4 = -732020.73'\n"
     ]
    }
   ],
   "source": [
    "# Helper code to compare with the values from the multi-linear regression\n",
    "print('By multi-Linear regression on all variables')\n",
    "for i in range(4):\n",
    "    pprint(f'Value of beta{i+1} = {round(multi_coef[i],2)}')"
   ]
  },
  {
   "cell_type": "code",
   "execution_count": 81,
   "id": "b05c608c-c195-4bbc-9d67-38dfd7091af9",
   "metadata": {},
   "outputs": [
    {
     "data": {
      "image/png": "[encoded data removed]",
      "text/plain": [
       "<Figure size 640x480 with 2 Axes>"
      ]
     },
     "metadata": {},
     "output_type": "display_data"
    }
   ],
   "source": [
    "# Helper code to visualize the heatmap of the covariance matrix\n",
    "corrMatrix = df_colinearity[['x1','x2','x3','x4']].corr() \n",
    "sns.heatmap(corrMatrix, annot=True) \n",
    "plt.show()\n"
   ]
  }
 ],
 "metadata": {
  "kernelspec": {
   "display_name": "islp_env",
   "language": "python",
   "name": "islp_env"
  },
  "language_info": {
   "codemirror_mode": {
    "name": "ipython",
    "version": 3
   },
   "file_extension": ".py",
   "mimetype": "text/x-python",
   "name": "python",
   "nbconvert_exporter": "python",
   "pygments_lexer": "ipython3",
   "version": "3.11.7"
  }
 },
 "nbformat": 4,
 "nbformat_minor": 5
}
