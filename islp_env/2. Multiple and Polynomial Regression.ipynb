{
 "cells": [
  {
   "cell_type": "code",
   "execution_count": 1,
   "id": "a4463063-1d77-4374-b10f-d4788251bd51",
   "metadata": {},
   "outputs": [],
   "source": [
    "import numpy as np\n",
    "import pandas as pd\n",
    "import matplotlib.pyplot as plt\n",
    "from sklearn import preprocessing\n",
    "from prettytable import PrettyTable\n",
    "from sklearn.metrics import mean_squared_error\n",
    "from sklearn.linear_model import LinearRegression\n",
    "from sklearn.model_selection import train_test_split\n",
    "%matplotlib inline"
   ]
  },
  {
   "cell_type": "code",
   "execution_count": 2,
   "id": "6226e5bc-295d-49b0-9fa9-5a28634c7f74",
   "metadata": {},
   "outputs": [
    {
     "data": {
      "text/html": [
       "<div>\n",
       "<style scoped>\n",
       "    .dataframe tbody tr th:only-of-type {\n",
       "        vertical-align: middle;\n",
       "    }\n",
       "\n",
       "    .dataframe tbody tr th {\n",
       "        vertical-align: top;\n",
       "    }\n",
       "\n",
       "    .dataframe thead th {\n",
       "        text-align: right;\n",
       "    }\n",
       "</style>\n",
       "<table border=\"1\" class=\"dataframe\">\n",
       "  <thead>\n",
       "    <tr style=\"text-align: right;\">\n",
       "      <th></th>\n",
       "      <th>TV</th>\n",
       "      <th>Radio</th>\n",
       "      <th>Newspaper</th>\n",
       "      <th>Sales</th>\n",
       "    </tr>\n",
       "  </thead>\n",
       "  <tbody>\n",
       "    <tr>\n",
       "      <th>0</th>\n",
       "      <td>230.1</td>\n",
       "      <td>37.8</td>\n",
       "      <td>69.2</td>\n",
       "      <td>22.1</td>\n",
       "    </tr>\n",
       "    <tr>\n",
       "      <th>1</th>\n",
       "      <td>44.5</td>\n",
       "      <td>39.3</td>\n",
       "      <td>45.1</td>\n",
       "      <td>10.4</td>\n",
       "    </tr>\n",
       "    <tr>\n",
       "      <th>2</th>\n",
       "      <td>17.2</td>\n",
       "      <td>45.9</td>\n",
       "      <td>69.3</td>\n",
       "      <td>12.0</td>\n",
       "    </tr>\n",
       "    <tr>\n",
       "      <th>3</th>\n",
       "      <td>151.5</td>\n",
       "      <td>41.3</td>\n",
       "      <td>58.5</td>\n",
       "      <td>16.5</td>\n",
       "    </tr>\n",
       "    <tr>\n",
       "      <th>4</th>\n",
       "      <td>180.8</td>\n",
       "      <td>10.8</td>\n",
       "      <td>58.4</td>\n",
       "      <td>17.9</td>\n",
       "    </tr>\n",
       "  </tbody>\n",
       "</table>\n",
       "</div>"
      ],
      "text/plain": [
       "      TV  Radio  Newspaper  Sales\n",
       "0  230.1   37.8       69.2   22.1\n",
       "1   44.5   39.3       45.1   10.4\n",
       "2   17.2   45.9       69.3   12.0\n",
       "3  151.5   41.3       58.5   16.5\n",
       "4  180.8   10.8       58.4   17.9"
      ]
     },
     "execution_count": 2,
     "metadata": {},
     "output_type": "execute_result"
    }
   ],
   "source": [
    "# Lets look at the advertising data set\n",
    "ad_df = pd.read_csv('datasets/advertising.csv')\n",
    "ad_df.head()"
   ]
  },
  {
   "cell_type": "markdown",
   "id": "9dc4fddb-66a1-4a33-8132-f556d8226f3a",
   "metadata": {},
   "source": [
    "---------------------"
   ]
  },
  {
   "cell_type": "markdown",
   "id": "a61798a6-8993-4c25-a9f0-6c20e97c6178",
   "metadata": {},
   "source": [
    "### Create different multi predictor models"
   ]
  },
  {
   "cell_type": "code",
   "execution_count": 3,
   "id": "ae022f2b-6dd3-497c-a9ec-a0fd45d5f042",
   "metadata": {},
   "outputs": [],
   "source": [
    "# Initialize a list to store the MSE values\n",
    "mse_list = []\n",
    "\n",
    "# Create a list of lists of all unique predictor combinations\n",
    "# For example, if you have 2 predictors, A and B, you would end up with:\n",
    "# [['A'], ['B'], ['A', 'B']]\n",
    "cols = [['TV'], ['Radio'], ['Newspaper'], ['TV', 'Radio'], ['TV', 'Newspaper'], \n",
    "        ['Radio', 'Newspaper'], ['TV', 'Radio', 'Newspaper']]\n",
    "\n",
    "# Loop over all predictor combinations:\n",
    "for i in cols:\n",
    "\n",
    "    # Set each of the predictors from the previous list as x:\n",
    "    x = ad_df[i]\n",
    "\n",
    "    # Set the \"sales\" column as the response variable:\n",
    "    y = ad_df['Sales']\n",
    "\n",
    "    # Split the data into train-test sets with 80% training data and 20% testing data.\n",
    "    # Set random_state as 0\n",
    "    x_train, x_test, y_train, y_test = train_test_split(x, y, train_size = 0.8, random_state = 0)\n",
    "\n",
    "    # Initialize a Linear Regression model\n",
    "    lreg = LinearRegression()\n",
    "\n",
    "    # Fit the linear model on the train data:\n",
    "    lreg.fit(x_train, y_train)\n",
    "\n",
    "    # Predict the response variable for the test set using the trained model\n",
    "    y_pred = lreg.predict(x_test)\n",
    "\n",
    "    # Compute the MSE for the test data:\n",
    "    MSE = mean_squared_error(y_test, y_pred)\n",
    "\n",
    "    # Append the computed MSE to the initialized list:\n",
    "    mse_list.append(MSE)"
   ]
  },
  {
   "cell_type": "code",
   "execution_count": 4,
   "id": "7b66c957-9e68-4c57-a5e0-74e33d4e11fc",
   "metadata": {},
   "outputs": [
    {
     "data": {
      "text/plain": [
       "[6.639091226559303,\n",
       " 30.800740055187482,\n",
       " 34.972705918316024,\n",
       " 4.476818366208145,\n",
       " 5.93963320856206,\n",
       " 31.445129067266254,\n",
       " 4.522552562041294]"
      ]
     },
     "execution_count": 4,
     "metadata": {},
     "output_type": "execute_result"
    }
   ],
   "source": [
    "# Take a quick look at the mse_list to ensure it's populated:\n",
    "mse_list"
   ]
  },
  {
   "cell_type": "markdown",
   "id": "f1b4844d-a2f1-4602-832c-797293c5ced2",
   "metadata": {},
   "source": [
    "### Display the MSE with predictor combinations"
   ]
  },
  {
   "cell_type": "code",
   "execution_count": 5,
   "id": "66a2fbdf-b1ce-42f3-ae50-a64fa29c2213",
   "metadata": {},
   "outputs": [
    {
     "name": "stdout",
     "output_type": "stream",
     "text": [
      "+------------------------------+--------+\n",
      "|          Predictors          |  MSE   |\n",
      "+------------------------------+--------+\n",
      "|            ['TV']            | 6.639  |\n",
      "|          ['Radio']           | 30.801 |\n",
      "|        ['Newspaper']         | 34.973 |\n",
      "|       ['TV', 'Radio']        | 4.477  |\n",
      "|     ['TV', 'Newspaper']      |  5.94  |\n",
      "|    ['Radio', 'Newspaper']    | 31.445 |\n",
      "| ['TV', 'Radio', 'Newspaper'] | 4.523  |\n",
      "+------------------------------+--------+\n"
     ]
    }
   ],
   "source": [
    "# Helper code to display the MSE for each predictor combination:\n",
    "t = PrettyTable(['Predictors', 'MSE'])\n",
    "\n",
    "for i in range(len(mse_list)):\n",
    "    t.add_row([cols[i], round(mse_list[i], 3)])\n",
    "\n",
    "print(t)"
   ]
  },
  {
   "cell_type": "code",
   "execution_count": 6,
   "id": "be89d733-369c-4ae8-afb4-59a13564fce7",
   "metadata": {},
   "outputs": [
    {
     "data": {
      "text/html": [
       "<div>\n",
       "<style scoped>\n",
       "    .dataframe tbody tr th:only-of-type {\n",
       "        vertical-align: middle;\n",
       "    }\n",
       "\n",
       "    .dataframe tbody tr th {\n",
       "        vertical-align: top;\n",
       "    }\n",
       "\n",
       "    .dataframe thead th {\n",
       "        text-align: right;\n",
       "    }\n",
       "</style>\n",
       "<table border=\"1\" class=\"dataframe\">\n",
       "  <thead>\n",
       "    <tr style=\"text-align: right;\">\n",
       "      <th></th>\n",
       "      <th>TV</th>\n",
       "      <th>Radio</th>\n",
       "      <th>Newspaper</th>\n",
       "      <th>Sales</th>\n",
       "    </tr>\n",
       "  </thead>\n",
       "  <tbody>\n",
       "    <tr>\n",
       "      <th>0</th>\n",
       "      <td>230.1</td>\n",
       "      <td>37.8</td>\n",
       "      <td>69.2</td>\n",
       "      <td>22.1</td>\n",
       "    </tr>\n",
       "    <tr>\n",
       "      <th>1</th>\n",
       "      <td>44.5</td>\n",
       "      <td>39.3</td>\n",
       "      <td>45.1</td>\n",
       "      <td>10.4</td>\n",
       "    </tr>\n",
       "    <tr>\n",
       "      <th>2</th>\n",
       "      <td>17.2</td>\n",
       "      <td>45.9</td>\n",
       "      <td>69.3</td>\n",
       "      <td>12.0</td>\n",
       "    </tr>\n",
       "    <tr>\n",
       "      <th>3</th>\n",
       "      <td>151.5</td>\n",
       "      <td>41.3</td>\n",
       "      <td>58.5</td>\n",
       "      <td>16.5</td>\n",
       "    </tr>\n",
       "    <tr>\n",
       "      <th>4</th>\n",
       "      <td>180.8</td>\n",
       "      <td>10.8</td>\n",
       "      <td>58.4</td>\n",
       "      <td>17.9</td>\n",
       "    </tr>\n",
       "    <tr>\n",
       "      <th>...</th>\n",
       "      <td>...</td>\n",
       "      <td>...</td>\n",
       "      <td>...</td>\n",
       "      <td>...</td>\n",
       "    </tr>\n",
       "    <tr>\n",
       "      <th>195</th>\n",
       "      <td>38.2</td>\n",
       "      <td>3.7</td>\n",
       "      <td>13.8</td>\n",
       "      <td>7.6</td>\n",
       "    </tr>\n",
       "    <tr>\n",
       "      <th>196</th>\n",
       "      <td>94.2</td>\n",
       "      <td>4.9</td>\n",
       "      <td>8.1</td>\n",
       "      <td>14.0</td>\n",
       "    </tr>\n",
       "    <tr>\n",
       "      <th>197</th>\n",
       "      <td>177.0</td>\n",
       "      <td>9.3</td>\n",
       "      <td>6.4</td>\n",
       "      <td>14.8</td>\n",
       "    </tr>\n",
       "    <tr>\n",
       "      <th>198</th>\n",
       "      <td>283.6</td>\n",
       "      <td>42.0</td>\n",
       "      <td>66.2</td>\n",
       "      <td>25.5</td>\n",
       "    </tr>\n",
       "    <tr>\n",
       "      <th>199</th>\n",
       "      <td>232.1</td>\n",
       "      <td>8.6</td>\n",
       "      <td>8.7</td>\n",
       "      <td>18.4</td>\n",
       "    </tr>\n",
       "  </tbody>\n",
       "</table>\n",
       "<p>200 rows × 4 columns</p>\n",
       "</div>"
      ],
      "text/plain": [
       "        TV  Radio  Newspaper  Sales\n",
       "0    230.1   37.8       69.2   22.1\n",
       "1     44.5   39.3       45.1   10.4\n",
       "2     17.2   45.9       69.3   12.0\n",
       "3    151.5   41.3       58.5   16.5\n",
       "4    180.8   10.8       58.4   17.9\n",
       "..     ...    ...        ...    ...\n",
       "195   38.2    3.7       13.8    7.6\n",
       "196   94.2    4.9        8.1   14.0\n",
       "197  177.0    9.3        6.4   14.8\n",
       "198  283.6   42.0       66.2   25.5\n",
       "199  232.1    8.6        8.7   18.4\n",
       "\n",
       "[200 rows x 4 columns]"
      ]
     },
     "execution_count": 6,
     "metadata": {},
     "output_type": "execute_result"
    }
   ],
   "source": [
    "ad_df"
   ]
  },
  {
   "cell_type": "code",
   "execution_count": 12,
   "id": "470301b2-9f09-47b4-963b-a359fdcb597c",
   "metadata": {},
   "outputs": [
    {
     "name": "stdout",
     "output_type": "stream",
     "text": [
      "29408.5\n",
      "4652.800000000001\n",
      "6110.799999999999\n",
      "3026.1000000000004\n"
     ]
    }
   ],
   "source": [
    "# check why output doesn't match edx \n",
    "# Sales sum is different in this data set so that is likely causing the disconnect\n",
    "for i in ad_df.columns:\n",
    "    print(ad_df[i].sum())"
   ]
  },
  {
   "cell_type": "code",
   "execution_count": null,
   "id": "f9c70e20-03d0-4f9e-b50c-31c71c8508f8",
   "metadata": {},
   "outputs": [],
   "source": []
  }
 ],
 "metadata": {
  "kernelspec": {
   "display_name": "islp_env",
   "language": "python",
   "name": "islp_env"
  },
  "language_info": {
   "codemirror_mode": {
    "name": "ipython",
    "version": 3
   },
   "file_extension": ".py",
   "mimetype": "text/x-python",
   "name": "python",
   "nbconvert_exporter": "python",
   "pygments_lexer": "ipython3",
   "version": "3.11.7"
  }
 },
 "nbformat": 4,
 "nbformat_minor": 5
}
